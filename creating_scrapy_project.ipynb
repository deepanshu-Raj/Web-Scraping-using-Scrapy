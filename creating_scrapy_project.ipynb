{
 "cells": [
  {
   "cell_type": "code",
   "execution_count": 1,
   "metadata": {},
   "outputs": [
    {
     "name": "stdout",
     "output_type": "stream",
     "text": [
      "New Scrapy project 'scrapyproject', using template directory 'c:\\users\\dr697699\\appdata\\local\\programs\\python\\python38\\lib\\site-packages\\scrapy\\templates\\project', created in:\n",
      "    G:\\Machine Learning\\Web crawler using scrapy\\scrapyproject\n",
      "\n",
      "You can start your first spider with:\n",
      "    cd scrapyproject\n",
      "    scrapy genspider example example.com\n"
     ]
    }
   ],
   "source": [
    "#setting up a scrapy project\n",
    "!scrapy startproject scrapyproject"
   ]
  },
  {
   "cell_type": "code",
   "execution_count": null,
   "metadata": {},
   "outputs": [],
   "source": []
  }
 ],
 "metadata": {
  "kernelspec": {
   "display_name": "Python 3",
   "language": "python",
   "name": "python3"
  },
  "language_info": {
   "codemirror_mode": {
    "name": "ipython",
    "version": 3
   },
   "file_extension": ".py",
   "mimetype": "text/x-python",
   "name": "python",
   "nbconvert_exporter": "python",
   "pygments_lexer": "ipython3",
   "version": "3.8.4"
  }
 },
 "nbformat": 4,
 "nbformat_minor": 4
}
